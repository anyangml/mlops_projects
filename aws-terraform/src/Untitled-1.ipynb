{
 "cells": [
  {
   "cell_type": "code",
   "execution_count": null,
   "metadata": {},
   "outputs": [],
   "source": [
    "from aws"
   ]
  }
 ],
 "metadata": {
  "kernelspec": {
   "display_name": "aws-terraform",
   "language": "python",
   "name": "aws-terraform"
  },
  "language_info": {
   "name": "python",
   "version": "3.11.4"
  },
  "orig_nbformat": 4
 },
 "nbformat": 4,
 "nbformat_minor": 2
}
